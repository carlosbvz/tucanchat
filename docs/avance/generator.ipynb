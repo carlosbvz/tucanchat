{
 "cells": [
  {
   "cell_type": "code",
   "execution_count": 14,
   "metadata": {},
   "outputs": [],
   "source": [
    "import random\n",
    "import csv\n",
    "\n",
    "total = 30000\n",
    "\n",
    "def generate_data(num_rows):\n",
    "    data = []\n",
    "    for i in range(1, num_rows + 1):\n",
    "        row = {\n",
    "            \"id\": i,\n",
    "            \"Gender\": random.randint(0, 1),\n",
    "            \"Age\": random.randint(18, 85),\n",
    "            \"Height\": random.uniform(140, 190),\n",
    "            \"Weight\": random.uniform(40, 100),\n",
    "            \"Chair_stand\": random.randint(10, 30),\n",
    "            \"Arm_curl\": random.randint(15, 35),\n",
    "            \"Six_min_walk\": random.uniform(400, 700),\n",
    "            \"Steps\": random.randint(100, 300),\n",
    "            \"Trunk_flex\": random.uniform(-15, 20),\n",
    "            \"Back_scratch\": random.uniform(-10, 10),\n",
    "            \"TUG\": random.uniform(5, 15),\n",
    "            \"Handgrip1\": random.uniform(20, 50),\n",
    "            \"VO2_ml\": random.uniform(1000, 2000),\n",
    "            \"VO2peak\": random.uniform(15, 35),\n",
    "            \"DXA\": random.uniform(30, 50),\n",
    "            \"BMD\": random.uniform(0.8, 1.3)\n",
    "        }\n",
    "        data.append(row)\n",
    "    return data\n",
    "\n",
    "# Generate 3000 rows of mock data\n",
    "data = generate_data(total)\n",
    "\n",
    "# Write the data to a CSV file\n",
    "with open(\"data.csv\", \"w\", newline=\"\") as csvfile:\n",
    "    fieldnames = [\"id\", \"Gender\", \"Age\", \"Height\", \"Weight\", \"Chair_stand\", \"Arm_curl\", \"Six_min_walk\", \"Steps\", \"Trunk_flex\", \"Back_scratch\", \"TUG\", \"Handgrip1\", \"VO2_ml\", \"VO2peak\", \"DXA\", \"BMD\"]\n",
    "    writer = csv.DictWriter(csvfile, fieldnames=fieldnames)\n",
    "\n",
    "    writer.writeheader()\n",
    "    for row in data:\n",
    "        writer.writerow(row)"
   ]
  },
  {
   "cell_type": "code",
   "execution_count": 16,
   "metadata": {},
   "outputs": [],
   "source": [
    "\n",
    "def generate_ost(num_rows):\n",
    "    data = []\n",
    "    for i in range(1, num_rows + 1):\n",
    "        row = {\n",
    "            \"id\": i,\n",
    "            \"possitive_osteoporosis\": random.randint(0, 1),\n",
    "        }\n",
    "        data.append(row)\n",
    "    return data\n",
    "\n",
    "# Generate 3000 rows of mock data\n",
    "data = generate_ost(total)\n",
    "\n",
    "# Write the data to a CSV file\n",
    "with open(\"ost_data.csv\", \"w\", newline=\"\") as csvfile:\n",
    "    fieldnames = [\"id\", \"possitive_osteoporosis\",]\n",
    "    writer = csv.DictWriter(csvfile, fieldnames=fieldnames)\n",
    "\n",
    "    writer.writeheader()\n",
    "    for row in data:\n",
    "        writer.writerow(row)"
   ]
  }
 ],
 "metadata": {
  "kernelspec": {
   "display_name": "base",
   "language": "python",
   "name": "python3"
  },
  "language_info": {
   "codemirror_mode": {
    "name": "ipython",
    "version": 3
   },
   "file_extension": ".py",
   "mimetype": "text/x-python",
   "name": "python",
   "nbconvert_exporter": "python",
   "pygments_lexer": "ipython3",
   "version": "3.11.7"
  }
 },
 "nbformat": 4,
 "nbformat_minor": 2
}
